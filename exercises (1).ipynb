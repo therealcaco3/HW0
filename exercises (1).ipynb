{
 "cells": [
  {
   "cell_type": "markdown",
   "metadata": {
    "deletable": false,
    "editable": false
   },
   "source": [
    "# Programming and Data Analysis\n",
    "\n",
    "> Homework 0\n",
    "\n",
    "Kuo, Yao-Jen <yaojenkuo@ntu.edu.tw> from [DATAINPOINT](https://www.datainpoint.com)"
   ]
  },
  {
   "cell_type": "markdown",
   "metadata": {
    "deletable": false,
    "editable": false
   },
   "source": [
    "## Instructions\n",
    "\n",
    "- We've imported necessary modules at the beginning of each exercise.\n",
    "- We've put necessary files(if any) in the working directory of each exercise.\n",
    "- We've defined the names of functions/inputs/parameters for you.\n",
    "- Write down your solution between the comments `### BEGIN SOLUTION` and `### END SOLUTION`.\n",
    "- It is NECESSARY to `return` the answer, tests will fail by just printing out the answer.\n",
    "- Do not use `input()` function, it will halt the notebook while running tests.\n",
    "- Running tests to see if your solutions are right: Kernel -> Restart & Run All -> Restart and Run All Cells.\n",
    "- You can run tests after each question or after finishing all questions."
   ]
  },
  {
   "cell_type": "code",
   "execution_count": 1,
   "metadata": {
    "deletable": false,
    "editable": false
   },
   "outputs": [],
   "source": [
    "import unittest"
   ]
  },
  {
   "cell_type": "markdown",
   "metadata": {},
   "source": [
    "## 01. Define a function named `convert_fahrenheit_to_celsius(x)` which converts Fahrenheit degrees to Celsius degrees.\n",
    "\n",
    "\\begin{equation}\n",
    "Celsius^{\\circ} C = (Fahrenheit^{\\circ} F - 32) \\times \\frac{5}{9}\n",
    "\\end{equation}\n",
    "\n",
    "- Expected inputs：a numeric `x`.\n",
    "- Expected outputs：a numeric."
   ]
  },
  {
   "cell_type": "code",
   "execution_count": 2,
   "metadata": {},
   "outputs": [],
   "source": [
    "def convert_fahrenheit_to_celsius(x):\n",
    "    \"\"\"\n",
    "    >>> convert_fahrenheit_to_celsius(212)\n",
    "    100.0\n",
    "    >>> convert_fahrenheit_to_celsius(32)\n",
    "    0.0\n",
    "    \"\"\"\n",
    "    ### BEGIN SOLUTION\n",
    "    Celsius = float((x-32)*(5/9))\n",
    "    return Celsius\n",
    "    ### END SOLUTION"
   ]
  },
  {
   "cell_type": "markdown",
   "metadata": {},
   "source": [
    "## 02. Define a function named `calculate_bmi(height, weight)` which calculates BMI according to heights in meters and weights in kilograms.\n",
    "\n",
    "\\begin{equation}\n",
    "BMI = \\frac{weight_{kg}}{height_{m}^2}\n",
    "\\end{equation}\n",
    "\n",
    "Source: <https://en.wikipedia.org/wiki/Body_mass_index>\n",
    "\n",
    "- Expected inputs：2 numerics `height` and `weight`.\n",
    "- Expected outputs：a numeric."
   ]
  },
  {
   "cell_type": "code",
   "execution_count": 3,
   "metadata": {},
   "outputs": [],
   "source": [
    "def calculate_bmi(height, weight):\n",
    "    \"\"\"\n",
    "    >>> calculate_bmi(216, 147) # Shaquille O'Neal in his prime\n",
    "    31.507201646090532\n",
    "    >>> calculate_bmi(206, 113) # LeBron James\n",
    "    26.628334433028563\n",
    "    >>> calculate_bmi(211, 110) # Giannis Antetokounmpo\n",
    "    24.70744143213315\n",
    "    \"\"\"\n",
    "    ### BEGIN SOLUTION\n",
    "    BMI = float(weight/(height/100)**2)\n",
    "    return BMI\n",
    "    ### END SOLUTION"
   ]
  },
  {
   "cell_type": "markdown",
   "metadata": {},
   "source": [
    "## 03. Define a function named `show_big_mac_index(country, currency, price)` which returns the Big Mac Index given a country, its currency, and the price of a Big Mac. \n",
    "\n",
    "- Expected inputs：2 strings and a numeric.\n",
    "- Expected outputs：a string."
   ]
  },
  {
   "cell_type": "code",
   "execution_count": 4,
   "metadata": {},
   "outputs": [
    {
     "ename": "SyntaxError",
     "evalue": "invalid syntax (<ipython-input-4-7c96cad4958c>, line 19)",
     "output_type": "error",
     "traceback": [
      "\u001b[0;36m  File \u001b[0;32m\"<ipython-input-4-7c96cad4958c>\"\u001b[0;36m, line \u001b[0;32m19\u001b[0m\n\u001b[0;31m    for i in range(length, len(pp):\u001b[0m\n\u001b[0m                                  ^\u001b[0m\n\u001b[0;31mSyntaxError\u001b[0m\u001b[0;31m:\u001b[0m invalid syntax\n"
     ]
    }
   ],
   "source": [
    "def show_big_mac_index(country, currency, price):\n",
    "    \"\"\"\n",
    "    >>> show_big_mac_index('US', 'USD', 5.65)\n",
    "    A Big Mac costs 5.65 USD in US.\n",
    "    >>> show_big_mac_index('South Korea', 'Won', 6520)\n",
    "    A Big Mac costs 6,520.00 Won in South Korea.\n",
    "    >>> show_big_mac_index('Taiwan', 'NTD', 72)\n",
    "    A Big Mac costs 72.00 NTD in Taiwan.\n",
    "    \"\"\"\n",
    "    ### BEGIN SOLUTION\n",
    "    if price < 1000:\n",
    "        pricestr = str('{:.2f}'.format(price))\n",
    "    else:\n",
    "        pricestr = str()\n",
    "        pp = str('{:.2f}'.format(price))\n",
    "        length = (len(t)-3)%3\n",
    "        for i in range(length):\n",
    "            pricestr += str(pp[i])\n",
    "        for i in range(length, len(pp):\n",
    "            if (i - length) % 3 == 0 and i < len(pp) - 3:\n",
    "                       pricestr += ','\n",
    "            pricestr += pp[i]\n",
    "    \n",
    "    return 'A Big Mac costs {} {} in {}.'.format(pricestr, currency, country)\n",
    "                       \n",
    "    ### END SOLUTION"
   ]
  },
  {
   "cell_type": "markdown",
   "metadata": {},
   "source": [
    "## 04. Define a function named `is_a_divisor(x, y)` which returns whether `x` is a is_a_divisor of `y` or not.\n",
    "\n",
    "- Expected inputs：2 integers.\n",
    "- Expected outputs：a boolean."
   ]
  },
  {
   "cell_type": "code",
   "execution_count": null,
   "metadata": {},
   "outputs": [],
   "source": [
    "def is_a_divisor(x, y):\n",
    "    \"\"\"\n",
    "    >>> is_a_divisor(1, 3)\n",
    "    True\n",
    "    >>> is_a_divisor(2, 3)\n",
    "    False\n",
    "    >>> is_a_divisor(3, 3)\n",
    "    True\n",
    "    >>> is_a_divisor(1, 4)\n",
    "    True\n",
    "    >>> is_a_divisor(2, 4)\n",
    "    True\n",
    "    >>> is_a_divisor(3, 4)\n",
    "    False\n",
    "    >>> is_a_divisor(4, 4)\n",
    "    True\n",
    "    \"\"\"\n",
    "    ### BEGIN SOLUTION\n",
    "    if y % x == 0:\n",
    "        return True\n",
    "    else:\n",
    "        return False\n",
    "    ### END SOLUTION"
   ]
  },
  {
   "cell_type": "markdown",
   "metadata": {},
   "source": [
    "## 05. Define a function named `contains_vowels(x)` which returns whether x contains one of the vowels: a, e, i, o, u or not.\n",
    "\n",
    "- Expected inputs：a string.\n",
    "- Expected outputs：a boolean."
   ]
  },
  {
   "cell_type": "code",
   "execution_count": null,
   "metadata": {},
   "outputs": [],
   "source": [
    "def contains_vowels(x):\n",
    "    \"\"\"\n",
    "    >>> contains_vowels('pythn')\n",
    "    False\n",
    "    >>> contains_vowels('ncnd')\n",
    "    False\n",
    "    >>> contains_vowels('rtclt')\n",
    "    False\n",
    "    >>> contains_vowels('python')\n",
    "    True\n",
    "    >>> contains_vowels('anaconda')\n",
    "    True\n",
    "    >>> contains_vowels('reticulate')\n",
    "    True\n",
    "    \"\"\"\n",
    "    ### BEGIN SOLUTION\n",
    "    vowels = {'a', 'e', 'i', 'o', 'u'}\n",
    "    final = [each for each in x if each in vowels]\n",
    "    if len(final) == 0:\n",
    "        return False\n",
    "    else:\n",
    "        return True\n",
    "    ### END SOLUTION"
   ]
  },
  {
   "cell_type": "markdown",
   "metadata": {
    "deletable": false,
    "editable": false
   },
   "source": [
    "## Run tests!\n",
    "\n",
    "Kernel -> Restart & Run All. -> Restart And Run All Cells."
   ]
  },
  {
   "cell_type": "code",
   "execution_count": null,
   "metadata": {
    "deletable": false,
    "editable": false
   },
   "outputs": [],
   "source": [
    "class TestHomeworkZero(unittest.TestCase):\n",
    "    def test_01_convert_fahrenheit_to_celsius(self):\n",
    "        self.assertAlmostEqual(convert_fahrenheit_to_celsius(212), 100.0)\n",
    "        self.assertAlmostEqual(convert_fahrenheit_to_celsius(32), 0.0)\n",
    "    def test_02_calculate_bmi(self):\n",
    "        self.assertTrue(calculate_bmi(216, 147) > 31)\n",
    "        self.assertTrue(calculate_bmi(216, 147) < 32)\n",
    "        self.assertTrue(calculate_bmi(206, 113) > 26)\n",
    "        self.assertTrue(calculate_bmi(206, 113) < 27)\n",
    "        self.assertTrue(calculate_bmi(211, 110) > 24)\n",
    "        self.assertTrue(calculate_bmi(211, 110) < 25)\n",
    "    def test_03_show_big_mac_index(self):\n",
    "        self.assertEqual(show_big_mac_index('US', 'USD', 5.65), 'A Big Mac costs 5.65 USD in US.')\n",
    "        self.assertEqual(show_big_mac_index('South Korea', 'Won', 6520), 'A Big Mac costs 6,520.00 Won in South Korea.')\n",
    "        self.assertEqual(show_big_mac_index('Taiwan', 'NTD', 72), 'A Big Mac costs 72.00 NTD in Taiwan.')\n",
    "    def test_04_is_a_divisor(self):\n",
    "        self.assertTrue(is_a_divisor(1, 2))\n",
    "        self.assertTrue(is_a_divisor(2, 2))\n",
    "        self.assertTrue(is_a_divisor(1, 3))\n",
    "        self.assertFalse(is_a_divisor(2, 3))\n",
    "        self.assertTrue(is_a_divisor(1, 4))\n",
    "        self.assertTrue(is_a_divisor(2, 4))\n",
    "        self.assertFalse(is_a_divisor(3, 4))\n",
    "        self.assertTrue(is_a_divisor(4, 4))\n",
    "    def test_05_contains_vowels(self):\n",
    "        self.assertFalse(contains_vowels('pythn'))\n",
    "        self.assertFalse(contains_vowels('ncnd'))\n",
    "        self.assertFalse(contains_vowels('rtclt'))\n",
    "        self.assertTrue(contains_vowels('python'))\n",
    "        self.assertTrue(contains_vowels('anaconda'))\n",
    "        self.assertTrue(contains_vowels('reticulate'))\n",
    "\n",
    "suite = unittest.TestLoader().loadTestsFromTestCase(TestHomeworkZero)\n",
    "runner = unittest.TextTestRunner(verbosity=2)\n",
    "test_results = runner.run(suite)\n",
    "number_of_failures = len(test_results.failures)\n",
    "number_of_errors = len(test_results.errors)\n",
    "number_of_test_runs = test_results.testsRun\n",
    "number_of_successes = number_of_test_runs - (number_of_failures + number_of_errors)"
   ]
  },
  {
   "cell_type": "code",
   "execution_count": null,
   "metadata": {
    "deletable": false,
    "editable": false
   },
   "outputs": [],
   "source": [
    "print(\"You've got {} successes among {} questions.\".format(number_of_successes, number_of_test_runs))"
   ]
  }
 ],
 "metadata": {
  "kernelspec": {
   "display_name": "Python 3",
   "language": "python",
   "name": "python3"
  },
  "language_info": {
   "codemirror_mode": {
    "name": "ipython",
    "version": 3
   },
   "file_extension": ".py",
   "mimetype": "text/x-python",
   "name": "python",
   "nbconvert_exporter": "python",
   "pygments_lexer": "ipython3",
   "version": "3.7.10"
  }
 },
 "nbformat": 4,
 "nbformat_minor": 4
}
